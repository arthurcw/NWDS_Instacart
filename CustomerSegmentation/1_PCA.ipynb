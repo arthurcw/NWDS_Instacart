{
 "cells": [
  {
   "cell_type": "markdown",
   "metadata": {},
   "source": [
    "# Dimension Reduction - Principal Component Analysis (PCA)\n",
    "- Principal Component Analysis (PCA) was performed to reduce the number of dimensions and reduce model runtime while retaining the most explained varaince. For this analysis, the threshold was set to 95%, meaning the selected principal components would explain 95% of the variance in data.\n",
    "- 157 product categories were reduced to "
   ]
  },
  {
   "cell_type": "markdown",
   "metadata": {},
   "source": [
    "## Import Depdendencies and Data"
   ]
  },
  {
   "cell_type": "code",
   "execution_count": 2,
   "metadata": {},
   "outputs": [],
   "source": [
    "%matplotlib inline\n",
    "import numpy as np\n",
    "import pandas as pd\n",
    "import matplotlib.pyplot as plt\n",
    "import seaborn as sns\n",
    "from sklearn.decomposition import PCA"
   ]
  },
  {
   "cell_type": "code",
   "execution_count": 3,
   "metadata": {},
   "outputs": [
    {
     "name": "stdout",
     "output_type": "stream",
     "text": [
      "There are 20,168 customers in training data set\n"
     ]
    },
    {
     "data": {
      "text/html": [
       "<div>\n",
       "<style scoped>\n",
       "    .dataframe tbody tr th:only-of-type {\n",
       "        vertical-align: middle;\n",
       "    }\n",
       "\n",
       "    .dataframe tbody tr th {\n",
       "        vertical-align: top;\n",
       "    }\n",
       "\n",
       "    .dataframe thead th {\n",
       "        text-align: right;\n",
       "    }\n",
       "</style>\n",
       "<table border=\"1\" class=\"dataframe\">\n",
       "  <thead>\n",
       "    <tr style=\"text-align: right;\">\n",
       "      <th></th>\n",
       "      <th>air fresheners candles</th>\n",
       "      <th>asian foods</th>\n",
       "      <th>baby accessories</th>\n",
       "      <th>baby bath body care</th>\n",
       "      <th>baby food formula</th>\n",
       "      <th>bakery desserts</th>\n",
       "      <th>baking ingredients</th>\n",
       "      <th>baking supplies decor</th>\n",
       "      <th>beauty</th>\n",
       "      <th>beers coolers</th>\n",
       "      <th>...</th>\n",
       "      <th>international</th>\n",
       "      <th>meat seafood</th>\n",
       "      <th>missing_y</th>\n",
       "      <th>other_y</th>\n",
       "      <th>pantry</th>\n",
       "      <th>personal care</th>\n",
       "      <th>pets</th>\n",
       "      <th>produce</th>\n",
       "      <th>snacks</th>\n",
       "      <th>organic</th>\n",
       "    </tr>\n",
       "  </thead>\n",
       "  <tbody>\n",
       "    <tr>\n",
       "      <th>0</th>\n",
       "      <td>0.0</td>\n",
       "      <td>0.0</td>\n",
       "      <td>0.0</td>\n",
       "      <td>0.0</td>\n",
       "      <td>0.0</td>\n",
       "      <td>0.0</td>\n",
       "      <td>-0.25</td>\n",
       "      <td>0.0</td>\n",
       "      <td>0.0</td>\n",
       "      <td>0.0</td>\n",
       "      <td>...</td>\n",
       "      <td>-0.333333</td>\n",
       "      <td>-0.250</td>\n",
       "      <td>0.0</td>\n",
       "      <td>0.0</td>\n",
       "      <td>-0.466667</td>\n",
       "      <td>3.50</td>\n",
       "      <td>0.0</td>\n",
       "      <td>0.202532</td>\n",
       "      <td>-0.04</td>\n",
       "      <td>0.929293</td>\n",
       "    </tr>\n",
       "    <tr>\n",
       "      <th>1</th>\n",
       "      <td>0.0</td>\n",
       "      <td>0.5</td>\n",
       "      <td>0.0</td>\n",
       "      <td>0.0</td>\n",
       "      <td>0.0</td>\n",
       "      <td>1.0</td>\n",
       "      <td>0.00</td>\n",
       "      <td>2.0</td>\n",
       "      <td>0.0</td>\n",
       "      <td>0.0</td>\n",
       "      <td>...</td>\n",
       "      <td>0.666667</td>\n",
       "      <td>0.000</td>\n",
       "      <td>1.0</td>\n",
       "      <td>0.0</td>\n",
       "      <td>-0.333333</td>\n",
       "      <td>-0.25</td>\n",
       "      <td>0.0</td>\n",
       "      <td>-0.531646</td>\n",
       "      <td>-0.36</td>\n",
       "      <td>-0.373737</td>\n",
       "    </tr>\n",
       "    <tr>\n",
       "      <th>2</th>\n",
       "      <td>0.0</td>\n",
       "      <td>4.0</td>\n",
       "      <td>0.0</td>\n",
       "      <td>3.0</td>\n",
       "      <td>126.0</td>\n",
       "      <td>0.0</td>\n",
       "      <td>0.00</td>\n",
       "      <td>0.0</td>\n",
       "      <td>0.0</td>\n",
       "      <td>0.0</td>\n",
       "      <td>...</td>\n",
       "      <td>3.333333</td>\n",
       "      <td>1.125</td>\n",
       "      <td>0.0</td>\n",
       "      <td>1.0</td>\n",
       "      <td>2.333333</td>\n",
       "      <td>-0.25</td>\n",
       "      <td>0.0</td>\n",
       "      <td>1.430380</td>\n",
       "      <td>1.36</td>\n",
       "      <td>0.080808</td>\n",
       "    </tr>\n",
       "    <tr>\n",
       "      <th>3</th>\n",
       "      <td>0.0</td>\n",
       "      <td>0.0</td>\n",
       "      <td>0.0</td>\n",
       "      <td>0.0</td>\n",
       "      <td>0.0</td>\n",
       "      <td>0.0</td>\n",
       "      <td>0.75</td>\n",
       "      <td>0.0</td>\n",
       "      <td>0.0</td>\n",
       "      <td>0.0</td>\n",
       "      <td>...</td>\n",
       "      <td>0.333333</td>\n",
       "      <td>-0.125</td>\n",
       "      <td>0.0</td>\n",
       "      <td>0.0</td>\n",
       "      <td>0.066667</td>\n",
       "      <td>0.50</td>\n",
       "      <td>0.0</td>\n",
       "      <td>-0.215190</td>\n",
       "      <td>0.64</td>\n",
       "      <td>0.333333</td>\n",
       "    </tr>\n",
       "    <tr>\n",
       "      <th>4</th>\n",
       "      <td>0.0</td>\n",
       "      <td>0.5</td>\n",
       "      <td>0.0</td>\n",
       "      <td>0.0</td>\n",
       "      <td>0.0</td>\n",
       "      <td>0.0</td>\n",
       "      <td>0.00</td>\n",
       "      <td>0.0</td>\n",
       "      <td>0.0</td>\n",
       "      <td>0.0</td>\n",
       "      <td>...</td>\n",
       "      <td>0.666667</td>\n",
       "      <td>0.375</td>\n",
       "      <td>0.0</td>\n",
       "      <td>0.0</td>\n",
       "      <td>-0.266667</td>\n",
       "      <td>0.75</td>\n",
       "      <td>0.0</td>\n",
       "      <td>-0.607595</td>\n",
       "      <td>-0.40</td>\n",
       "      <td>-0.595960</td>\n",
       "    </tr>\n",
       "  </tbody>\n",
       "</table>\n",
       "<p>5 rows × 157 columns</p>\n",
       "</div>"
      ],
      "text/plain": [
       "   air fresheners candles  asian foods  baby accessories  baby bath body care  \\\n",
       "0                     0.0          0.0               0.0                  0.0   \n",
       "1                     0.0          0.5               0.0                  0.0   \n",
       "2                     0.0          4.0               0.0                  3.0   \n",
       "3                     0.0          0.0               0.0                  0.0   \n",
       "4                     0.0          0.5               0.0                  0.0   \n",
       "\n",
       "   baby food formula  bakery desserts  baking ingredients  \\\n",
       "0                0.0              0.0               -0.25   \n",
       "1                0.0              1.0                0.00   \n",
       "2              126.0              0.0                0.00   \n",
       "3                0.0              0.0                0.75   \n",
       "4                0.0              0.0                0.00   \n",
       "\n",
       "   baking supplies decor  beauty  beers coolers  ...  international  \\\n",
       "0                    0.0     0.0            0.0  ...      -0.333333   \n",
       "1                    2.0     0.0            0.0  ...       0.666667   \n",
       "2                    0.0     0.0            0.0  ...       3.333333   \n",
       "3                    0.0     0.0            0.0  ...       0.333333   \n",
       "4                    0.0     0.0            0.0  ...       0.666667   \n",
       "\n",
       "   meat seafood  missing_y  other_y    pantry  personal care  pets   produce  \\\n",
       "0        -0.250        0.0      0.0 -0.466667           3.50   0.0  0.202532   \n",
       "1         0.000        1.0      0.0 -0.333333          -0.25   0.0 -0.531646   \n",
       "2         1.125        0.0      1.0  2.333333          -0.25   0.0  1.430380   \n",
       "3        -0.125        0.0      0.0  0.066667           0.50   0.0 -0.215190   \n",
       "4         0.375        0.0      0.0 -0.266667           0.75   0.0 -0.607595   \n",
       "\n",
       "   snacks   organic  \n",
       "0   -0.04  0.929293  \n",
       "1   -0.36 -0.373737  \n",
       "2    1.36  0.080808  \n",
       "3    0.64  0.333333  \n",
       "4   -0.40 -0.595960  \n",
       "\n",
       "[5 rows x 157 columns]"
      ]
     },
     "execution_count": 3,
     "metadata": {},
     "output_type": "execute_result"
    }
   ],
   "source": [
    "cust_train_rescale = pd.read_csv('../Outputs/customer_order_train_rescale.csv')\n",
    "cust_train_rescale.drop(cust_train_rescale.columns[0], axis=1, inplace=True)\n",
    "\n",
    "print(f'There are {len(cust_train_rescale):,} customers in training data set')\n",
    "cust_train_rescale.head(5)"
   ]
  },
  {
   "cell_type": "code",
   "execution_count": 4,
   "metadata": {},
   "outputs": [],
   "source": [
    "# convert to np array for PCA\n",
    "cust_train_rescale = cust_train_rescale.values"
   ]
  },
  {
   "cell_type": "markdown",
   "metadata": {},
   "source": [
    "## Plot variance by number of principal components\n",
    "95% of the variance can be explained by less than 71 principal components"
   ]
  },
  {
   "cell_type": "code",
   "execution_count": 5,
   "metadata": {},
   "outputs": [],
   "source": [
    "# Plot cumulative variance by number of principal components\n",
    "def plotPCAvariance(data, n_components):\n",
    "    model = PCA().fit(data)\n",
    "    \n",
    "    sns.set()\n",
    "    fig, ax = plt.subplots(figsize=(8,6))\n",
    "    xi = np.arange(1, n_components + 1, step=1)\n",
    "    y = np.cumsum(model.explained_variance_ratio_)*100\n",
    "\n",
    "    plt.ylim(0.0,110)\n",
    "    plt.plot(xi, y, marker='o', linestyle='--', color='b')\n",
    "\n",
    "    plt.xlabel('Number of Principal Components')\n",
    "    plt.xticks(np.arange(0, n_components + 10, step=10))\n",
    "    plt.ylabel('Cumulative variance (%)')\n",
    "    plt.title('Number of components needed to explain variance')\n",
    "\n",
    "    plt.axhline(y=95, color='r', linestyle='-')\n",
    "    plt.text(0.5, 85, '95% threshold', color = 'red', fontsize=16)\n",
    "\n",
    "    ax.grid(b=True, which='major', axis='both')\n",
    "    plt.show()"
   ]
  },
  {
   "cell_type": "code",
   "execution_count": 6,
   "metadata": {},
   "outputs": [
    {
     "data": {
      "image/png": "[encoded data removed]",
      "text/plain": [
       "<Figure size 576x432 with 1 Axes>"
      ]
     },
     "metadata": {},
     "output_type": "display_data"
    }
   ],
   "source": [
    "# 'aisle' data set\n",
    "plotPCAvariance(cust_train_rescale, cust_train_rescale.shape[1])"
   ]
  },
  {
   "cell_type": "code",
   "execution_count": 7,
   "metadata": {},
   "outputs": [
    {
     "name": "stdout",
     "output_type": "stream",
     "text": [
      "Number of components was reduced to 71\n"
     ]
    }
   ],
   "source": [
    "cust_train_reduced = PCA(n_components = 0.95).fit_transform(cust_train_rescale)\n",
    "print(f'Number of components was reduced to {cust_train_reduced.shape[1]}')"
   ]
  },
  {
   "cell_type": "markdown",
   "metadata": {},
   "source": [
    "#### Export reduced dataset to csv"
   ]
  },
  {
   "cell_type": "code",
   "execution_count": 8,
   "metadata": {},
   "outputs": [],
   "source": [
    "pd.DataFrame(cust_train_reduced).to_csv('../Outputs/customer_order_train_reduced.csv')"
   ]
  },
  {
   "cell_type": "code",
   "execution_count": null,
   "metadata": {},
   "outputs": [],
   "source": []
  }
 ],
 "metadata": {
  "kernelspec": {
   "display_name": "Python 3",
   "language": "python",
   "name": "python3"
  },
  "language_info": {
   "codemirror_mode": {
    "name": "ipython",
    "version": 3
   },
   "file_extension": ".py",
   "mimetype": "text/x-python",
   "name": "python",
   "nbconvert_exporter": "python",
   "pygments_lexer": "ipython3",
   "version": "3.7.4"
  }
 },
 "nbformat": 4,
 "nbformat_minor": 4
}
